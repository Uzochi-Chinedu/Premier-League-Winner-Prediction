{
 "cells": [
  {
   "cell_type": "code",
   "execution_count": null,
   "id": "4c671ea8-cd64-4eb6-b2ae-c9b26337ec8b",
   "metadata": {},
   "outputs": [],
   "source": []
  }
 ],
 "metadata": {
  "kernelspec": {
   "display_name": "",
   "name": ""
  },
  "language_info": {
   "name": ""
  }
 },
 "nbformat": 4,
 "nbformat_minor": 5
}
